{
 "cells": [
  {
   "cell_type": "code",
   "execution_count": 1,
   "metadata": {},
   "outputs": [
    {
     "name": "stdout",
     "output_type": "stream",
     "text": [
      "five is greater than two\n"
     ]
    }
   ],
   "source": [
    "if 5 > 2:\n",
    "    print(\"five is greater than two\")"
   ]
  },
  {
   "cell_type": "code",
   "execution_count": 6,
   "metadata": {},
   "outputs": [
    {
     "name": "stdout",
     "output_type": "stream",
     "text": [
      "Hello cats Hello cats Hello cats Hello cats Hello cats \n"
     ]
    }
   ],
   "source": [
    "x = 5\n",
    "y = \"Hello cats \"\n",
    "print(5 * y)\n",
    "#comments"
   ]
  },
  {
   "cell_type": "code",
   "execution_count": 9,
   "metadata": {},
   "outputs": [
    {
     "name": "stdout",
     "output_type": "stream",
     "text": [
      "required length  19.5\n"
     ]
    }
   ],
   "source": [
    "#no command for declaring a variable, is created when a value is assigned to it.\n",
    "#variables do not need to be declared with a type\n",
    "#global variables can be used anywhere, ie inside and outside of functions\n",
    "seamAllowance = 1.5\n",
    "\n",
    "def skirt():\n",
    "    skirtLength = 18\n",
    "    fabricLength = skirtLength + seamAllowance\n",
    "    print(\"required length \", fabricLength)\n",
    "    \n",
    "skirt()\n"
   ]
  },
  {
   "cell_type": "code",
   "execution_count": 10,
   "metadata": {},
   "outputs": [
    {
     "name": "stdout",
     "output_type": "stream",
     "text": [
      "required length  49\n"
     ]
    }
   ],
   "source": [
    "#local variables - declaring a variable inside the function \n",
    "#it can have the same name and only be accessible within the function\n",
    "seamAllowance = 1.5\n",
    "def dress():\n",
    "    dressLength = 45\n",
    "    seamAllowance = 2\n",
    "    fabricLength = dressLength + (seamAllowance * 2)\n",
    "    print(\"required length \", fabricLength)\n",
    "    \n",
    "dress()"
   ]
  },
  {
   "cell_type": "code",
   "execution_count": 15,
   "metadata": {},
   "outputs": [
    {
     "name": "stdout",
     "output_type": "stream",
     "text": [
      "In healthy range, not at risk of heart disease \n",
      "in healthy range not at risk \n"
     ]
    }
   ],
   "source": [
    "#global variable can be declared in a function by using global keyword\n",
    "#waist to hip ratios can be used to predict risk of getting heart disease\n",
    "#note initially I put global in front of variable declaration, that was not correct\n",
    "\n",
    "\n",
    "def calcWaisttoHipInches():\n",
    "    global WHOupperLimit\n",
    "    WHOupperLimit = 1\n",
    "    waist = 30\n",
    "    hip = 40\n",
    "    ratio = waist / hip\n",
    "    if ratio < WHOupperLimit:\n",
    "        print(\"In healthy range, not at risk of heart disease \")\n",
    "    else:\n",
    "        print(\"Above healthy range\")\n",
    "        \n",
    "\n",
    "def calcWaisttoHipCm():\n",
    "    WHOupperLimit\n",
    "    waist = 75\n",
    "    hip = 98\n",
    "    ratio = waist / hip\n",
    "    if ratio < WHOupperLimit:\n",
    "        print(\"in healthy range not at risk \")\n",
    "    else:\n",
    "        print(\"Above healthy range\")\n",
    "        \n",
    "\n",
    "calcWaisttoHipInches()\n",
    "calcWaisttoHipCm()\n",
    "    \n",
    "    "
   ]
  },
  {
   "cell_type": "code",
   "execution_count": 19,
   "metadata": {},
   "outputs": [
    {
     "name": "stdout",
     "output_type": "stream",
     "text": [
      "<class 'int'>\n",
      "<class 'float'>\n"
     ]
    }
   ],
   "source": [
    "#data types\n",
    "x = 5\n",
    "print(type(x))\n",
    "#use a constructor function to set data type\n",
    "y = float(20.5)\n",
    "print(type(y))"
   ]
  },
  {
   "cell_type": "code",
   "execution_count": 20,
   "metadata": {},
   "outputs": [
    {
     "name": "stdout",
     "output_type": "stream",
     "text": [
      "apple\n",
      "pear\n",
      "blackberry\n"
     ]
    }
   ],
   "source": [
    "#for loops to iterate over a sequence, works more like an iterator method from OOP languages\n",
    "#we can execute a set of statements once for each item in a sequence\n",
    "\n",
    "fruits = [\"apple\", \"pear\", \"blackberry\"]\n",
    "for x in fruits:\n",
    "    print(x)"
   ]
  },
  {
   "cell_type": "code",
   "execution_count": 26,
   "metadata": {},
   "outputs": [
    {
     "name": "stdout",
     "output_type": "stream",
     "text": [
      "Temp is  21\n",
      "Temp is  22\n",
      "Temp is  23\n",
      "Temp is  24\n",
      "Stopped heater before 25 degrees\n"
     ]
    }
   ],
   "source": [
    "#use a break statment to stop the loop\n",
    "\n",
    "temps =[21,22,23,24,25,26]\n",
    "desiredTemp = 25\n",
    "for x in temps:\n",
    "    if x == desiredTemp:\n",
    "        break\n",
    "    print(\"Temp is \",x)\n",
    "    \n",
    "print(\"Stopped heater before 25 degrees\")"
   ]
  },
  {
   "cell_type": "code",
   "execution_count": 29,
   "metadata": {},
   "outputs": [
    {
     "name": "stdout",
     "output_type": "stream",
     "text": [
      "1\n",
      "2\n",
      "3\n"
     ]
    }
   ],
   "source": [
    "#while loop executes a set of statements as long as a condition is true\n",
    "i = 1\n",
    "while i < 4:\n",
    "    print(i)\n",
    "    i += 1"
   ]
  },
  {
   "cell_type": "code",
   "execution_count": 34,
   "metadata": {},
   "outputs": [
    {
     "name": "stdout",
     "output_type": "stream",
     "text": [
      "num_guesses = 300\n",
      "2.99999999999998 is close to the cube root of 27\n"
     ]
    }
   ],
   "source": [
    "#aproximate solutions code from video - from Introduction to Computer Science and Programming using Python on EdX\n",
    "#finding the square root - from this video I decided to look at Recursion, see Java Practice repo\n",
    "#talks about epsilon which is a mathematical term for a very small number which is not negative, \n",
    "#approaching zero but staying positive\n",
    "\n",
    "cube = 27  #value for what trying to find\n",
    "epsilon = 0.01 #how close I want to get\n",
    "guess = 0.0  #starting value\n",
    "incremement = 0.01\n",
    "num_guesses = 0  #tracks times through loop\n",
    "while abs(guess**3 - cube) >= epsilon: #difference between guess cubed, and the cube is greater or equal to epsilon\n",
    "    guess += incremement  #increment guess by the value of increment\n",
    "    num_guesses += 1\n",
    "print(\"num_guesses =\", num_guesses )\n",
    "if abs(guess**3 - cube) >= epsilon:\n",
    "    print(\"failed on cube root of \", cube)\n",
    "else:\n",
    "    print(guess, \"is close to the cube root of\", cube)\n",
    "\n"
   ]
  },
  {
   "cell_type": "code",
   "execution_count": null,
   "metadata": {},
   "outputs": [],
   "source": [
    "# I couldn't work out why this code was returning the values it does, so I worked it out by\n",
    "# 1, line 6 was the bit I didn't understand - abs() is the absolute function is used to return the absolute value of a number.\n",
    "x = 25\n",
    "epsilon = 0.01\n",
    "step = 0.1\n",
    "guess = 0.0\n",
    "\n",
    "while guess <= x:\n",
    "    if abs(guess**2 -x) >= epsilon:\n",
    "        guess += step\n",
    "\n",
    "if abs(guess**2 - x) >= epsilon:\n",
    "    print('failed')\n",
    "else:\n",
    "    print('succeeded: ' + str(guess))"
   ]
  },
  {
   "cell_type": "code",
   "execution_count": 1,
   "metadata": {},
   "outputs": [
    {
     "name": "stdout",
     "output_type": "stream",
     "text": [
      "25.0\n"
     ]
    }
   ],
   "source": [
    "#why is the code below not returing a negative number? I ran just the line in question\n",
    "x = 25\n",
    "epsilon = 0.01\n",
    "step = 0.1\n",
    "guess = 0.0\n",
    "\n",
    "print(abs(guess**2 -x))"
   ]
  },
  {
   "cell_type": "code",
   "execution_count": 2,
   "metadata": {},
   "outputs": [
    {
     "name": "stdout",
     "output_type": "stream",
     "text": [
      "6.25\n",
      "-18.75\n"
     ]
    }
   ],
   "source": [
    "#testing this - which does print a negative number\n",
    "x = 25\n",
    "epsilon = 0.01\n",
    "step = 0.1\n",
    "guess = 2.5\n",
    "\n",
    "print(guess**2)\n",
    "print(guess**2 -x)"
   ]
  },
  {
   "cell_type": "code",
   "execution_count": 3,
   "metadata": {},
   "outputs": [
    {
     "name": "stdout",
     "output_type": "stream",
     "text": [
      "Absolute value of integer is: 94\n"
     ]
    }
   ],
   "source": [
    "#learning about the abs() function\n",
    "# An integer \n",
    "int = -94\n",
    "print('Absolute value of integer is:', abs(int)) "
   ]
  },
  {
   "cell_type": "code",
   "execution_count": 4,
   "metadata": {},
   "outputs": [
    {
     "name": "stdout",
     "output_type": "stream",
     "text": [
      "-18.75\n"
     ]
    }
   ],
   "source": [
    "print(2.5**2 - 25) #returns a negative number"
   ]
  },
  {
   "cell_type": "code",
   "execution_count": 6,
   "metadata": {},
   "outputs": [
    {
     "name": "stdout",
     "output_type": "stream",
     "text": [
      "18.75\n"
     ]
    }
   ],
   "source": [
    "# a quick google returned \"abs() is a built-in function in Python programming language \n",
    "#which gives a positive value of any number in return. \n",
    "#It means it converts any negative number into a positive number and positive numbers remain unchanged.\"\n",
    "#as the piece of code in the video uses epsilon it makes sense to use abs() \n",
    "#as we need to make sure everything is a positive number\n",
    "print(abs(2.5**2 - 25))"
   ]
  },
  {
   "cell_type": "code",
   "execution_count": null,
   "metadata": {},
   "outputs": [],
   "source": []
  }
 ],
 "metadata": {
  "kernelspec": {
   "display_name": "Python 3",
   "language": "python",
   "name": "python3"
  },
  "language_info": {
   "codemirror_mode": {
    "name": "ipython",
    "version": 3
   },
   "file_extension": ".py",
   "mimetype": "text/x-python",
   "name": "python",
   "nbconvert_exporter": "python",
   "pygments_lexer": "ipython3",
   "version": "3.7.4"
  }
 },
 "nbformat": 4,
 "nbformat_minor": 2
}
