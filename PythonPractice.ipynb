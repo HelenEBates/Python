{
 "cells": [
  {
   "cell_type": "code",
   "execution_count": 1,
   "metadata": {},
   "outputs": [
    {
     "name": "stdout",
     "output_type": "stream",
     "text": [
      "five is greater than two\n"
     ]
    }
   ],
   "source": [
    "if 5 > 2:\n",
    "    print(\"five is greater than two\")"
   ]
  },
  {
   "cell_type": "code",
   "execution_count": 6,
   "metadata": {},
   "outputs": [
    {
     "name": "stdout",
     "output_type": "stream",
     "text": [
      "Hello cats Hello cats Hello cats Hello cats Hello cats \n"
     ]
    }
   ],
   "source": [
    "x = 5\n",
    "y = \"Hello cats \"\n",
    "print(5 * y)\n",
    "#comments"
   ]
  },
  {
   "cell_type": "code",
   "execution_count": 9,
   "metadata": {},
   "outputs": [
    {
     "name": "stdout",
     "output_type": "stream",
     "text": [
      "required length  19.5\n"
     ]
    }
   ],
   "source": [
    "#no command for declaring a variable, is created when a value is assigned to it.\n",
    "#variables do not need to be declared with a type\n",
    "#global variables can be used anywhere, ie inside and outside of functions\n",
    "seamAllowance = 1.5\n",
    "\n",
    "def skirt():\n",
    "    skirtLength = 18\n",
    "    fabricLength = skirtLength + seamAllowance\n",
    "    print(\"required length \", fabricLength)\n",
    "    \n",
    "skirt()\n"
   ]
  },
  {
   "cell_type": "code",
   "execution_count": 10,
   "metadata": {},
   "outputs": [
    {
     "name": "stdout",
     "output_type": "stream",
     "text": [
      "required length  49\n"
     ]
    }
   ],
   "source": [
    "#local variables - declaring a variable inside the function \n",
    "#it can have the same name and only be accessible within the function\n",
    "seamAllowance = 1.5\n",
    "def dress():\n",
    "    dressLength = 45\n",
    "    seamAllowance = 2\n",
    "    fabricLength = dressLength + (seamAllowance * 2)\n",
    "    print(\"required length \", fabricLength)\n",
    "    \n",
    "dress()"
   ]
  },
  {
   "cell_type": "code",
   "execution_count": 15,
   "metadata": {},
   "outputs": [
    {
     "name": "stdout",
     "output_type": "stream",
     "text": [
      "In healthy range, not at risk of heart disease \n",
      "in healthy range not at risk \n"
     ]
    }
   ],
   "source": [
    "#global variable can be declared in a function by using global keyword\n",
    "#waist to hip ratios can be used to predict risk of getting heart disease\n",
    "#note initially I put global in front of variable declaration, that was not correct\n",
    "\n",
    "\n",
    "def calcWaisttoHipInches():\n",
    "    global WHOupperLimit\n",
    "    WHOupperLimit = 1\n",
    "    waist = 30\n",
    "    hip = 40\n",
    "    ratio = waist / hip\n",
    "    if ratio < WHOupperLimit:\n",
    "        print(\"In healthy range, not at risk of heart disease \")\n",
    "    else:\n",
    "        print(\"Above healthy range\")\n",
    "        \n",
    "\n",
    "def calcWaisttoHipCm():\n",
    "    WHOupperLimit\n",
    "    waist = 75\n",
    "    hip = 98\n",
    "    ratio = waist / hip\n",
    "    if ratio < WHOupperLimit:\n",
    "        print(\"in healthy range not at risk \")\n",
    "    else:\n",
    "        print(\"Above healthy range\")\n",
    "        \n",
    "\n",
    "calcWaisttoHipInches()\n",
    "calcWaisttoHipCm()\n",
    "    \n",
    "    "
   ]
  },
  {
   "cell_type": "code",
   "execution_count": null,
   "metadata": {},
   "outputs": [],
   "source": []
  }
 ],
 "metadata": {
  "kernelspec": {
   "display_name": "Python 3",
   "language": "python",
   "name": "python3"
  },
  "language_info": {
   "codemirror_mode": {
    "name": "ipython",
    "version": 3
   },
   "file_extension": ".py",
   "mimetype": "text/x-python",
   "name": "python",
   "nbconvert_exporter": "python",
   "pygments_lexer": "ipython3",
   "version": "3.7.4"
  }
 },
 "nbformat": 4,
 "nbformat_minor": 2
}
