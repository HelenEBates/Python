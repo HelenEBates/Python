{
 "cells": [
  {
   "cell_type": "code",
   "execution_count": null,
   "metadata": {},
   "outputs": [],
   "source": [
    "#Bisection search allows us to cut down on the range of potential values to check through, to find a value - here we are\n",
    "#looking for the square root of a value.\n",
    "#my attempt at solving the problem\n",
    "cube = 25  #value we are looking for the square root of\n",
    "#need to manage some kind of range, considered a range but min and max values may be easier to work with.\n",
    "minValue = 1 #starting value\n",
    "maxValue = 24\n",
    "midPoint = 12.5   # find a midpoint value, this would need to by dynamically calculated\n",
    "epsilon = 0.1  #how close we want to get\n",
    "# guess = 1  \n",
    "increment = 0.1\n",
    "num_guesses = 0 #tracks times through loop\n",
    "\n",
    "if abs(minValue**3 - cube) < midPoint: ##condition to check is if the abs value of the guess is above or below the midpoint\n",
    "    maxValue = midPoint # reassinging midpoint based on first sum\n",
    "    guess = minValue\n",
    "else:\n",
    "    minValue = midPoint\n",
    "    \n",
    "    \n",
    "while abs(minValue **3 - cube) >= epsilon: #difference between guess cubed, and the cube is greater or equal to epsilon\n",
    "    minValue += increment  #increment guess by the value of increment\n",
    "    num_guesses += 1\n",
    "print(\"num_guesses =\", num_guesses )\n",
    "if abs(minValue**3 - cube) >= epsilon:\n",
    "    print(\"failed on cube root of \", cube)\n",
    "else:\n",
    "    print(minValue, \"is close to the cube root of\", cube)\n",
    "\n",
    "\n"
   ]
  },
  {
   "cell_type": "code",
   "execution_count": 1,
   "metadata": {},
   "outputs": [
    {
     "name": "stdout",
     "output_type": "stream",
     "text": [
      "low, 1.025 high,ans13.0\n",
      "low, 1.013.0 high,ans7.0\n",
      "low, 1.07.0 high,ans4.0\n",
      "low, 4.07.0 high,ans5.5\n",
      "low, 4.05.5 high,ans4.75\n",
      "low, 4.755.5 high,ans5.125\n",
      "low, 4.755.125 high,ans4.9375\n",
      "low, 4.93755.125 high,ans5.03125\n",
      "low, 4.93755.03125 high,ans4.984375\n",
      "low, 4.9843755.03125 high,ans5.0078125\n",
      "low, 4.9843755.0078125 high,ans4.99609375\n",
      "low, 4.996093755.0078125 high,ans5.001953125\n",
      "4.9990234375 is close enough to square root of 25\n"
     ]
    }
   ],
   "source": [
    "#solution from the video, uses a high and low value as my solution did, my solution appears to stop the kernel each time, \n",
    "#not sure why. \n",
    "cube = 25  #value for what trying to find\n",
    "epsilon = 0.01 #how close I want to get\n",
    "num_guesses = 0  #tracks times through loop\n",
    "low = 1.0\n",
    "high = cube\n",
    "ans = (high + low)/ 2.0\n",
    "\n",
    "while abs(ans**2 - cube) >= epsilon: #difference between guess cubed, and the cube is greater or equal to epsilon\n",
    "    print(\"low, \" + str(low) + str(high) +\" high,\" \"ans\" + str(ans))\n",
    "    num_guesses += 1\n",
    "    if ans**2 < cube:\n",
    "        low = ans\n",
    "    else:\n",
    "        high = ans\n",
    "    ans = (high + low)/ 2.0\n",
    "print(str(ans) + \" is close enough to square root of \" + str(cube)) \n"
   ]
  },
  {
   "cell_type": "code",
   "execution_count": null,
   "metadata": {},
   "outputs": [],
   "source": []
  }
 ],
 "metadata": {
  "kernelspec": {
   "display_name": "Python 3",
   "language": "python",
   "name": "python3"
  },
  "language_info": {
   "codemirror_mode": {
    "name": "ipython",
    "version": 3
   },
   "file_extension": ".py",
   "mimetype": "text/x-python",
   "name": "python",
   "nbconvert_exporter": "python",
   "pygments_lexer": "ipython3",
   "version": "3.7.4"
  }
 },
 "nbformat": 4,
 "nbformat_minor": 2
}
